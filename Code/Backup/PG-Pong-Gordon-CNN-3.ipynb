{
 "cells": [
  {
   "cell_type": "code",
   "execution_count": null,
   "metadata": {
    "collapsed": false,
    "scrolled": false
   },
   "outputs": [
    {
     "name": "stderr",
     "output_type": "stream",
     "text": [
      "[2017-04-27 14:02:35,539] Making new env: Pong-v0\n"
     ]
    },
    {
     "name": "stdout",
     "output_type": "stream",
     "text": [
      "Continue from last saved episode\n",
      "\tep 371: reward: -21.0 duration: 1014\n",
      "\tep 372: reward: -21.0 duration: 1014\n",
      "\tep 373: reward: -21.0 duration: 1014\n",
      "\tep 374: reward: -21.0 duration: 1014\n",
      "\tep 375: reward: -21.0 duration: 1014\n",
      "\tep 376: reward: -21.0 duration: 5069\n",
      "\tep 377: reward: -21.0 duration: 5069\n",
      "\tep 378: reward: -21.0 duration: 5069\n",
      "\tep 379: reward: -21.0 duration: 5069\n",
      "\tep 380: reward: -21.0 duration: 5069\n",
      "Model saved, mean reward is -21.0 last action prob is [ 0.75073123  0.24926871]\n"
     ]
    },
    {
     "data": {
      "image/png": "[encoded data removed]",
      "text/plain": [
       "<matplotlib.figure.Figure at 0x20bbd110588>"
      ]
     },
     "metadata": {},
     "output_type": "display_data"
    },
    {
     "name": "stdout",
     "output_type": "stream",
     "text": [
      "\tep 381: reward: -21.0 duration: 5243\n",
      "\tep 382: reward: -21.0 duration: 5243\n",
      "\tep 383: reward: -21.0 duration: 5243\n"
     ]
    }
   ],
   "source": [
    "import numpy as np\n",
    "import pandas as pd\n",
    "import gym\n",
    "import tensorflow as tf\n",
    "import matplotlib.pyplot as plt\n",
    "import pickle\n",
    "import random\n",
    "\n",
    "# Initialize OpenAI for Pong\n",
    "env = gym.make(\"Pong-v0\")\n",
    "\n",
    "# Hyper parameters for policy gradient model\n",
    "global num_actions, discount, batch_size\n",
    "num_actions = 2\n",
    "discount = 0.99\n",
    "save_every = 10\n",
    "train_every = 5\n",
    "max_episode = 20000\n",
    "batch_size=300\n",
    "\n",
    "# Hyper parameters for Network\n",
    "learning_rate=0.0001\n",
    "decay_=0.99\n",
    "epsilon_=1e-6\n",
    "\n",
    "# Initialize parameter for policy gradient model \n",
    "observation = env.reset()\n",
    "image_old  = None\n",
    "images, fake_labels, rewards_std, reward_hist, reward_runn = [], [], [], [], []\n",
    "reward_episode = 0\n",
    "\n",
    "# Build network\n",
    "def Network(image_):\n",
    "    \n",
    "    conv_1 = tf.layers.conv2d(inputs=image_,\n",
    "                                    filters=32,\n",
    "                                    kernel_size=[11,11],\n",
    "                                    strides = 2,\n",
    "                                    padding=\"same\",\n",
    "                                    activation=tf.nn.relu,\n",
    "                                    use_bias=False,\n",
    "                                    kernel_initializer= tf.contrib.layers.xavier_initializer())\n",
    "        \n",
    "    pool1 = tf.layers.max_pooling2d(inputs=conv_1, \n",
    "                                                   pool_size=[2,2], \n",
    "                                                   strides=2)\n",
    "\n",
    "    conv_2 = tf.layers.conv2d(inputs=pool1,\n",
    "                                filters=48,\n",
    "                                kernel_size=[8,8],\n",
    "                                strides = 2,\n",
    "                                padding=\"same\",\n",
    "                                activation=tf.nn.relu,\n",
    "                                use_bias=False,\n",
    "                                kernel_initializer= tf.contrib.layers.xavier_initializer())\n",
    "\n",
    "    pool_2 = tf.layers.max_pooling2d(inputs=conv_2, \n",
    "                                                   pool_size=[2,2], \n",
    "                                                   strides=2)\n",
    "    \n",
    "    flatten = tf.contrib.layers.flatten(pool_2, scope='Flatten')\n",
    "    \n",
    "    FCL = tf.layers.dense(inputs=flatten, \n",
    "                                 units=256,\n",
    "                                 use_bias=False,\n",
    "                                 kernel_initializer= tf.contrib.layers.xavier_initializer(),\n",
    "                                 activation=tf.nn.relu)\n",
    "    \n",
    "    logits = tf.layers.dense(inputs=FCL, \n",
    "                             units=num_actions, \n",
    "                             use_bias=False,\n",
    "                             kernel_initializer= tf.contrib.layers.xavier_initializer(),\n",
    "                             name='logits')\n",
    "    \n",
    "    action_probs = tf.nn.softmax(logits)\n",
    "    \n",
    "    return action_probs\n",
    "\n",
    "# Get discounted reward and normalize it\n",
    "def discount_norm(rew):\n",
    "    \n",
    "    mean, variance= tf.nn.moments(rew, [0])\n",
    "    rew -= mean\n",
    "    rew /= tf.sqrt(variance + 1e-6)\n",
    "    \n",
    "    return rew\n",
    "\n",
    "# Process image by cropping and binarizing\n",
    "def process_obs(obs):\n",
    "    \n",
    "    obs = obs[35:195]\n",
    "    obs = obs[::2,::2,0]\n",
    "    obs[obs == 144] = 0\n",
    "    obs[obs == 109] = 0\n",
    "    obs[obs != 0] = 1 \n",
    "    \n",
    "    return obs.astype(np.float)  \n",
    "\n",
    "# Break down into batch jobs to reduce GPU/CPU load\n",
    "def gen_batch_index(num_of_steps):\n",
    "    \n",
    "    batch_index = []\n",
    "    start = 0\n",
    "    for index in np.array(range(0,num_of_steps,batch_size)):\n",
    "        end=index\n",
    "        if end > 0:\n",
    "            batch_index.append([start,end])\n",
    "        start=index\n",
    "    end = num_of_steps\n",
    "    batch_index.append([start,end])\n",
    "    \n",
    "    return batch_index\n",
    "\n",
    "def get_running_mean(reward_hist):\n",
    "    \n",
    "    running_mean=[]\n",
    "    mean=-21\n",
    "    for i in range(len(reward_hist)):\n",
    "        mean = 0.99*mean + 0.01*reward_hist[i]\n",
    "        running_mean.append(mean)\n",
    "        \n",
    "    return running_mean\n",
    "\n",
    "# Build model\n",
    "with tf.Graph().as_default() as g:\n",
    "    \n",
    "    with tf.device(\"/gpu:0\"):\n",
    "        image_ = tf.placeholder(dtype=tf.float32, shape=[None, 80,80,1],name=\"image\")\n",
    "        fake_label_ = tf.placeholder(dtype=tf.float32, shape=[None, num_actions],name=\"fake_label\")\n",
    "        reward_ = tf.placeholder(dtype=tf.float32, shape=[None,1], name=\"reward\")\n",
    "        \n",
    "        discounted_epr = discount_norm(reward_) # Get policy gradient\n",
    "\n",
    "        tf_aprob = Network(image_)\n",
    "        loss = tf.nn.l2_loss(fake_label_-tf_aprob) # Define loss\n",
    "        optimizer = tf.train.RMSPropOptimizer(learning_rate, decay=decay_, epsilon=epsilon_)\n",
    "        grads = optimizer.compute_gradients(loss, var_list=tf.trainable_variables(), grad_loss=discounted_epr)\n",
    "        train_op = optimizer.apply_gradients(grads)\n",
    "\n",
    "# Main program\n",
    "with g.as_default(), tf.Session() as sess:\n",
    "    \n",
    "    tf.global_variables_initializer().run()\n",
    "#     writer = tf.summary.FileWriter('./graph/', graph=tf.get_default_graph())\n",
    "    saver = tf.train.Saver(tf.global_variables())\n",
    "    \n",
    "    # Load from last session or start over\n",
    "    try:\n",
    "        episode_number = pickle.load(open('PG-Pong-ckpt-3-CNN/last-episode.p','rb'))\n",
    "        saver.restore(sess, 'PG-Pong-ckpt-3-CNN\\\\Pong_PG.ckpt-'+str(episode_number))\n",
    "        reward_hist = pickle.load(open('PG-Pong-ckpt-3-CNN/all_reward.p','rb'))\n",
    "        print('Continue from last saved episode')\n",
    "    except:\n",
    "        print('Training from beginning')\n",
    "        episode_number = 0\n",
    "        \n",
    "    # Starting playing\n",
    "    while episode_number <= max_episode:\n",
    "        \n",
    "        image_proc = process_obs(observation)\n",
    "        image_diff = image_proc - image_old if image_old is not None else np.zeros((80,80))\n",
    "        image_old = image_proc\n",
    "        \n",
    "        # Uniformly pick an action\n",
    "        feed_step = {image_: np.reshape(image_diff, (1,80,80,1))}\n",
    "        aprob = sess.run(tf_aprob,feed_step) ; aprob = aprob[0,:]\n",
    "        action = np.random.choice(num_actions, p=aprob)\n",
    "        label = np.zeros_like(aprob) ; label[action] = 1\n",
    "\n",
    "        # Input action to OpenAI and get feedback\n",
    "        observation, reward, done, info = env.step(action+2)\n",
    "        reward_episode += reward\n",
    "\n",
    "        # Record for training\n",
    "        images.append(image_diff); fake_labels.append(label); rewards_std.append(reward)\n",
    "\n",
    "        # Training\n",
    "        if done:\n",
    "            \n",
    "            if episode_number % train_every == 0:\n",
    "                \n",
    "                \n",
    "                batch_index = gen_batch_index(len(images))\n",
    "                for item in batch_index:\n",
    "                    feed_episode = {image_: np.array(images[item[0]:item[1]]).reshape(-1, 80, 80, 1), \n",
    "                            fake_label_: np.array(fake_labels[item[0]:item[1]]).reshape(-1,num_actions), \n",
    "                            reward_: np.array(rewards_std[item[0]:item[1]]).reshape(-1,1)}\n",
    "                    sess.run(train_op,feed_episode)\n",
    "                    \n",
    "                # Clear memory\n",
    "                episode_duration = len(rewards_std)\n",
    "                images, fake_labels, rewards_std = [], [], []\n",
    "            \n",
    "            # Bookkeeping\n",
    "            reward_hist.append(reward_episode)\n",
    "            reward_runn.append(reward_episode)\n",
    "            episode_number += 1\n",
    "            observation = env.reset()\n",
    "            print('\\tep {}: reward: {} duration: {}'.format(episode_number, reward_episode,episode_duration))\n",
    "            reward_episode = 0\n",
    "            \n",
    "            # Save model\n",
    "            if episode_number % save_every == 0:\n",
    "                \n",
    "                saver.save(sess, 'PG-Pong-ckpt-3-CNN/Pong_PG.ckpt', global_step=episode_number)\n",
    "                pickle.dump(episode_number,open('PG-Pong-ckpt-3-CNN/last-episode.p','wb'))\n",
    "                pickle.dump(reward_hist,open('PG-Pong-ckpt-3-CNN/all_reward.p','wb'))\n",
    "                print('Model saved, mean reward is',np.mean(reward_runn),'last action prob is',aprob)\n",
    "                \n",
    "                plt.figure(figsize=(18,3))\n",
    "                plt.plot([-18]*len(reward_hist),'r--')\n",
    "                plt.plot(np.array(get_running_mean(reward_hist)))\n",
    "                plt.show()\n",
    "                \n",
    "                reward_runn = []\n"
   ]
  },
  {
   "cell_type": "code",
   "execution_count": 2,
   "metadata": {
    "collapsed": false
   },
   "outputs": [
    {
     "name": "stderr",
     "output_type": "stream",
     "text": [
      "G:\\Program Files\\Anaconda3\\lib\\site-packages\\ipykernel\\__main__.py:6: FutureWarning: pd.rolling_mean is deprecated for Series and will be removed in a future version, replace with \n",
      "\tSeries.rolling(window=50,center=False).mean()\n",
      "G:\\Program Files\\Anaconda3\\lib\\site-packages\\ipykernel\\__main__.py:6: FutureWarning: pd.rolling_var is deprecated for Series and will be removed in a future version, replace with \n",
      "\tSeries.rolling(window=50,center=False).var()\n"
     ]
    },
    {
     "data": {
      "image/png": "[encoded data removed]",
      "text/plain": [
       "<matplotlib.figure.Figure at 0x20bbcd32710>"
      ]
     },
     "metadata": {},
     "output_type": "display_data"
    }
   ],
   "source": [
    "# Plotting\n",
    "interval = 50\n",
    "\n",
    "def get_mean_var(reward_hist):\n",
    "    ts = pd.Series(reward_hist)\n",
    "    return pd.rolling_mean(ts, interval), pd.rolling_var(ts, interval)\n",
    "\n",
    "running_mean, running_var = get_mean_var(reward_hist)\n",
    "\n",
    "fig,axe = plt.subplots(3,1,figsize=(18,15))\n",
    "plt.suptitle('CNN 3',fontsize=30)\n",
    "axe[0].plot(np.array(reward_hist))\n",
    "axe[0].set_title('Cummulative reward',fontsize=20)\n",
    "axe[1].plot(np.array(running_mean))\n",
    "axe[1].plot([-18]*len(running_mean),'r--')\n",
    "axe[1].set_title('Running mean',fontsize=20)\n",
    "axe[2].plot(np.array(running_var))\n",
    "axe[2].set_title('Running variance',fontsize=20)\n",
    "plt.show()\n",
    "fig.savefig('PG-Pong-ckpt-3-CNN/CNN3.jpg')"
   ]
  },
  {
   "cell_type": "code",
   "execution_count": null,
   "metadata": {
    "collapsed": true
   },
   "outputs": [],
   "source": []
  },
  {
   "cell_type": "code",
   "execution_count": null,
   "metadata": {
    "collapsed": true
   },
   "outputs": [],
   "source": []
  },
  {
   "cell_type": "code",
   "execution_count": null,
   "metadata": {
    "collapsed": true
   },
   "outputs": [],
   "source": []
  },
  {
   "cell_type": "code",
   "execution_count": null,
   "metadata": {
    "collapsed": true
   },
   "outputs": [],
   "source": []
  },
  {
   "cell_type": "code",
   "execution_count": null,
   "metadata": {
    "collapsed": true
   },
   "outputs": [],
   "source": []
  },
  {
   "cell_type": "code",
   "execution_count": null,
   "metadata": {
    "collapsed": true
   },
   "outputs": [],
   "source": []
  },
  {
   "cell_type": "code",
   "execution_count": null,
   "metadata": {
    "collapsed": true
   },
   "outputs": [],
   "source": []
  },
  {
   "cell_type": "code",
   "execution_count": null,
   "metadata": {
    "collapsed": true
   },
   "outputs": [],
   "source": []
  },
  {
   "cell_type": "code",
   "execution_count": null,
   "metadata": {
    "collapsed": true
   },
   "outputs": [],
   "source": []
  },
  {
   "cell_type": "code",
   "execution_count": null,
   "metadata": {
    "collapsed": true
   },
   "outputs": [],
   "source": []
  },
  {
   "cell_type": "code",
   "execution_count": null,
   "metadata": {
    "collapsed": true
   },
   "outputs": [],
   "source": []
  },
  {
   "cell_type": "code",
   "execution_count": null,
   "metadata": {
    "collapsed": true
   },
   "outputs": [],
   "source": []
  },
  {
   "cell_type": "code",
   "execution_count": null,
   "metadata": {
    "collapsed": true
   },
   "outputs": [],
   "source": []
  },
  {
   "cell_type": "code",
   "execution_count": null,
   "metadata": {
    "collapsed": true
   },
   "outputs": [],
   "source": []
  },
  {
   "cell_type": "code",
   "execution_count": null,
   "metadata": {
    "collapsed": true
   },
   "outputs": [],
   "source": []
  },
  {
   "cell_type": "code",
   "execution_count": null,
   "metadata": {
    "collapsed": true
   },
   "outputs": [],
   "source": []
  },
  {
   "cell_type": "code",
   "execution_count": null,
   "metadata": {
    "collapsed": true
   },
   "outputs": [],
   "source": []
  },
  {
   "cell_type": "code",
   "execution_count": null,
   "metadata": {
    "collapsed": true
   },
   "outputs": [],
   "source": []
  },
  {
   "cell_type": "code",
   "execution_count": null,
   "metadata": {
    "collapsed": true
   },
   "outputs": [],
   "source": []
  },
  {
   "cell_type": "code",
   "execution_count": null,
   "metadata": {
    "collapsed": true
   },
   "outputs": [],
   "source": []
  }
 ],
 "metadata": {
  "anaconda-cloud": {},
  "kernelspec": {
   "display_name": "Python [default]",
   "language": "python",
   "name": "python3"
  },
  "language_info": {
   "codemirror_mode": {
    "name": "ipython",
    "version": 3
   },
   "file_extension": ".py",
   "mimetype": "text/x-python",
   "name": "python",
   "nbconvert_exporter": "python",
   "pygments_lexer": "ipython3",
   "version": "3.5.2"
  }
 },
 "nbformat": 4,
 "nbformat_minor": 1
}
